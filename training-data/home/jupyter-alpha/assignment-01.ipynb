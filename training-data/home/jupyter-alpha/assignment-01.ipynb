{
 "cells": [
  {
   "cell_type": "markdown",
   "id": "03967dce",
   "metadata": {},
   "source": [
    "# Assignment 01"
   ]
  },
  {
   "cell_type": "markdown",
   "id": "b97fe3d6",
   "metadata": {},
   "source": [
    "Please solve the problems below.\n"
   ]
  },
  {
   "cell_type": "markdown",
   "id": "23cafc1f",
   "metadata": {},
   "source": [
    "## Problem 1: Mean"
   ]
  },
  {
   "cell_type": "markdown",
   "id": "714ad2a5",
   "metadata": {},
   "source": [
    "Write a function `mean` to compute the arthematic mean of a list of numbers.\n",
    "\n",
    "The arthemetic mean of `N` numbers is computed by adding all the `N` numbers and dividing the total by `N`.\n",
    "\n",
    "The function takes the list of numbers as argument and returns the mean.\n",
    "\n",
    "```python\n",
    ">>> mean([1, 2, 3, 4, 5])\n",
    "3.0\n",
    "```\n",
    "\n",
    "\n",
    "You can verify your solution using:<br>\n",
    "`%verify_problem mean`"
   ]
  },
  {
   "cell_type": "code",
   "execution_count": null,
   "id": "7bfad8f9",
   "metadata": {},
   "outputs": [],
   "source": [
    "# your code here\n",
    "\n",
    "\n",
    "\n"
   ]
  },
  {
   "cell_type": "code",
   "execution_count": null,
   "id": "32e4d1a5",
   "metadata": {},
   "outputs": [],
   "source": []
  },
  {
   "cell_type": "code",
   "execution_count": null,
   "id": "0060a5cc",
   "metadata": {},
   "outputs": [],
   "source": []
  },
  {
   "cell_type": "code",
   "execution_count": null,
   "id": "21515d2f",
   "metadata": {},
   "outputs": [],
   "source": [
    "%verify_problem mean"
   ]
  },
  {
   "cell_type": "markdown",
   "id": "6fcea452",
   "metadata": {},
   "source": [
    "## Problem 2: Product"
   ]
  },
  {
   "cell_type": "markdown",
   "id": "c5bec335",
   "metadata": {},
   "source": [
    "Write a function `product` to compute the product of a list of numbers.\n",
    "\n",
    "```\n",
    ">>> product([1, 2, 3, 4])\n",
    "24\n",
    ">>> product([10, 2, 50])\n",
    "1000\n",
    "```\n",
    "\n",
    "You can verify your solution using:<br>\n",
    "`%verify_problem product`"
   ]
  },
  {
   "cell_type": "code",
   "execution_count": null,
   "id": "4c3bf6c3",
   "metadata": {},
   "outputs": [],
   "source": [
    "# your code here\n",
    "\n",
    "\n",
    "\n"
   ]
  },
  {
   "cell_type": "code",
   "execution_count": null,
   "id": "369ad1bf",
   "metadata": {},
   "outputs": [],
   "source": []
  },
  {
   "cell_type": "code",
   "execution_count": null,
   "id": "865258c8",
   "metadata": {},
   "outputs": [],
   "source": []
  },
  {
   "cell_type": "code",
   "execution_count": null,
   "id": "ce11f60a",
   "metadata": {},
   "outputs": [],
   "source": [
    "%verify_problem product"
   ]
  },
  {
   "cell_type": "markdown",
   "id": "21c29cc3",
   "metadata": {},
   "source": [
    "## Problem 3: Digit Count"
   ]
  },
  {
   "cell_type": "markdown",
   "id": "d5deea17",
   "metadata": {},
   "source": [
    "Write a function `digit_count` that takes a number and a digit as argument and returns the number of times the digit is present in that number.\n",
    "\n",
    "```python\n",
    ">>> digit_count(1231, 1)\n",
    "2\n",
    ">>> digit_count(1231, 3)\n",
    "1\n",
    ">>> digit_count(1231, 9)\n",
    "0\n",
    "```\n",
    "\n",
    "#### Hint\n",
    "\n",
    "```python\n",
    ">>> \"mathematics\".count(\"mat\")\n",
    "2\n",
    "```\n",
    "\n",
    "You can verify your solution using:<br>\n",
    "`%verify_problem digit-count`"
   ]
  },
  {
   "cell_type": "code",
   "execution_count": null,
   "id": "2d29762d",
   "metadata": {},
   "outputs": [],
   "source": [
    "# your code here\n",
    "\n",
    "\n",
    "\n"
   ]
  },
  {
   "cell_type": "code",
   "execution_count": null,
   "id": "297b341e",
   "metadata": {},
   "outputs": [],
   "source": []
  },
  {
   "cell_type": "code",
   "execution_count": null,
   "id": "4176e4b5",
   "metadata": {},
   "outputs": [],
   "source": []
  },
  {
   "cell_type": "code",
   "execution_count": null,
   "id": "7426ca05",
   "metadata": {},
   "outputs": [],
   "source": [
    "%verify_problem digit-count"
   ]
  }
 ],
 "metadata": {},
 "nbformat": 4,
 "nbformat_minor": 5
}
